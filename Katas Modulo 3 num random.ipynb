{
 "cells": [
  {
   "cell_type": "markdown",
   "metadata": {},
   "source": [
    "Katas del Modulo 3, Generando numeros aleatorios, para ver todas las posibilidades de resultados."
   ]
  },
  {
   "cell_type": "code",
   "execution_count": 4,
   "metadata": {},
   "outputs": [
    {
     "name": "stdout",
     "output_type": "stream",
     "text": [
      "PELIGRO PELIGRO PELIGRO Un meteorito los va impactar\n"
     ]
    }
   ],
   "source": [
    "import random\n",
    "\n",
    "meteorito = random.randint(0, 99)\n",
    "\n",
    "if meteorito > 25:\n",
    "    print('PELIGRO PELIGRO PELIGRO Un meteorito los va impactar')\n",
    "else:\n",
    "    print('Todo bien, fuera de peligro')\n"
   ]
  },
  {
   "cell_type": "code",
   "execution_count": 5,
   "metadata": {},
   "outputs": [
    {
     "name": "stdout",
     "output_type": "stream",
     "text": [
      "Puede que haya destellos en cielo y los puedan ver en alguna parte del mundo por lluvia de asteroides\n"
     ]
    }
   ],
   "source": [
    "asteroide = random.randint(0, 40)\n",
    "if asteroide > 20:\n",
    "    print('Puede que haya destellos en cielo y los puedan ver en alguna parte del mundo por lluvia de asteroides')\n",
    "elif asteroide == 20:\n",
    "    print('Puede que haya destellos en cielo y los puedan ver en alguna parte del mundo por lluvia de asteroides')\n",
    "else:\n",
    "    print('No paso nada que chafa')"
   ]
  },
  {
   "cell_type": "code",
   "execution_count": 6,
   "metadata": {},
   "outputs": [
    {
     "name": "stdout",
     "output_type": "stream",
     "text": [
      "PELIGRO PELIGRO PELIGO, Un asteroide de gran tamaño y a una velocidad muy alta se impactara con la tierra REFUGIENSE PRONTO\n"
     ]
    }
   ],
   "source": [
    "velocidad_asteroide = random.randint(1,99)\n",
    "tamano_asteroide = random.randint(1,1000)\n",
    "\n",
    "if tamano_asteroide > 25 and velocidad_asteroide > 25:\n",
    "    print('PELIGRO PELIGRO PELIGO, Un asteroide de gran tamaño y a una velocidad muy alta se impactara con la tierra REFUGIENSE PRONTO')\n",
    "elif velocidad_asteroide >= 20:\n",
    "    print('Puede que haya destellos en cielo y los puedan ver en alguna parte del mundo por lluvia de asteroides')\n",
    "elif tamano_asteroide < 25:\n",
    "    print('No pasa nada que chafa')\n",
    "else:\n",
    "    print('No pasa nada que chafa')"
   ]
  }
 ],
 "metadata": {
  "interpreter": {
   "hash": "d6f1e10f67eb88951069e82d284eb11cc1a0cbdaf5ac4f6ca9d03ab888719cdb"
  },
  "kernelspec": {
   "display_name": "Python 3.9.10 64-bit (windows store)",
   "language": "python",
   "name": "python3"
  },
  "language_info": {
   "codemirror_mode": {
    "name": "ipython",
    "version": 3
   },
   "file_extension": ".py",
   "mimetype": "text/x-python",
   "name": "python",
   "nbconvert_exporter": "python",
   "pygments_lexer": "ipython3",
   "version": "3.9.10"
  },
  "orig_nbformat": 4
 },
 "nbformat": 4,
 "nbformat_minor": 2
}
