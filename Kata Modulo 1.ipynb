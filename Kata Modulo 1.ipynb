{
 "cells": [
  {
   "cell_type": "markdown",
   "metadata": {},
   "source": [
    "Kata modulo 1"
   ]
  },
  {
   "cell_type": "markdown",
   "metadata": {},
   "source": [
    "Tu primer programa"
   ]
  },
  {
   "cell_type": "code",
   "execution_count": 4,
   "metadata": {},
   "outputs": [
    {
     "name": "stdout",
     "output_type": "stream",
     "text": [
      "El dia de hoy es: 2022-02-09\n"
     ]
    }
   ],
   "source": [
    "from datetime import date\n",
    "print(\"El dia de hoy es: \" + str(date.today()))"
   ]
  },
  {
   "cell_type": "markdown",
   "metadata": {},
   "source": [
    "Convertidor "
   ]
  },
  {
   "cell_type": "code",
   "execution_count": 8,
   "metadata": {},
   "outputs": [
    {
     "name": "stdout",
     "output_type": "stream",
     "text": [
      "Convertidor de Parsecs a Años luz\n",
      "35.877159999999996\n"
     ]
    }
   ],
   "source": [
    "print(\"Convertidor de Parsecs a Años luz\")\n",
    "Parsec = input(\"Ingrese los parsecs en numeros enteros\")\n",
    "print(int(Parsec) * 3.26156)"
   ]
  },
  {
   "cell_type": "code",
   "execution_count": 9,
   "metadata": {},
   "outputs": [
    {
     "name": "stdout",
     "output_type": "stream",
     "text": [
      "Convertidor de Años luz a Parsecs\n",
      "1638.95299611229\n"
     ]
    }
   ],
   "source": [
    "print(\"Convertidor de Años luz a Parsecs\")\n",
    "años_luz = input(\"Ingrese los años luz\")\n",
    "print(float(años_luz) / 3.26156)"
   ]
  }
 ],
 "metadata": {
  "interpreter": {
   "hash": "d6f1e10f67eb88951069e82d284eb11cc1a0cbdaf5ac4f6ca9d03ab888719cdb"
  },
  "kernelspec": {
   "display_name": "Python 3.9.10 64-bit (windows store)",
   "language": "python",
   "name": "python3"
  },
  "language_info": {
   "codemirror_mode": {
    "name": "ipython",
    "version": 3
   },
   "file_extension": ".py",
   "mimetype": "text/x-python",
   "name": "python",
   "nbconvert_exporter": "python",
   "pygments_lexer": "ipython3",
   "version": "3.9.10"
  },
  "orig_nbformat": 4
 },
 "nbformat": 4,
 "nbformat_minor": 2
}
